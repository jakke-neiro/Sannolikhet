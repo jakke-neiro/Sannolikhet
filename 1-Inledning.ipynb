{
 "cells": [
  {
   "cell_type": "markdown",
   "id": "77d2d7c4-947a-488a-8611-cef5784886fe",
   "metadata": {},
   "source": [
    "# Inledning till sannolikhetsteorin\n",
    "Jakke Neiro$^1$"
   ]
  },
  {
   "cell_type": "markdown",
   "id": "ac61c1df-dd33-4ef8-89b7-71df76f36d40",
   "metadata": {},
   "source": [
    "1. Doktorand, Oxfords universitet"
   ]
  },
  {
   "cell_type": "markdown",
   "id": "896f2808-e6ba-43fc-8410-74651a55b5d2",
   "metadata": {},
   "source": [
    "# Förord"
   ]
  },
  {
   "cell_type": "markdown",
   "id": "ea522474-4388-4e46-ac6e-60afc160ed7f",
   "metadata": {},
   "source": [
    "När jag studerade statistik vid Helsingfors universitet blev det klart för mig att det finns knappt med moderna läromedel om statistikteorin på svenska. Således föreföll det mig att författa ett sådant, och det presenteras här. "
   ]
  },
  {
   "cell_type": "markdown",
   "id": "1b219f76-dcea-4bc4-a572-0c8fc217aadc",
   "metadata": {},
   "source": [
    "## 1. Sannolikhetsbegreppet "
   ]
  },
  {
   "cell_type": "markdown",
   "id": "23ed7364-486c-4f97-b633-c60c702d0f62",
   "metadata": {},
   "source": [
    "Vad är sannolikhet? Sannolikhet är det matematiska begreppet som används för att mäta osäkerhet och variabilitet. "
   ]
  },
  {
   "cell_type": "markdown",
   "id": "d2f42351-d55c-4e40-9aa2-b7e9482123e0",
   "metadata": {},
   "source": [
    "# 2. Händelser"
   ]
  },
  {
   "cell_type": "markdown",
   "id": "7e89e35b-84fe-4f4f-b410-14eca14d726d",
   "metadata": {},
   "source": [
    "Sannolikhetsbegreppet bygger på tre begrepp: utfall, utfallsrummet och händelser. "
   ]
  },
  {
   "cell_type": "markdown",
   "id": "fd00fc04-e791-4bc3-9f98-aacb48d45b00",
   "metadata": {},
   "source": [
    "Definition: Utfallsrummet $\\Omega$ är mängden av "
   ]
  }
 ],
 "metadata": {
  "kernelspec": {
   "display_name": "Python 3 (ipykernel)",
   "language": "python",
   "name": "python3"
  },
  "language_info": {
   "codemirror_mode": {
    "name": "ipython",
    "version": 3
   },
   "file_extension": ".py",
   "mimetype": "text/x-python",
   "name": "python",
   "nbconvert_exporter": "python",
   "pygments_lexer": "ipython3",
   "version": "3.8.12"
  }
 },
 "nbformat": 4,
 "nbformat_minor": 5
}
