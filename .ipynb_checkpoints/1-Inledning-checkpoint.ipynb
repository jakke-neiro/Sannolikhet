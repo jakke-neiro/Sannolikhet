{
 "cells": [
  {
   "cell_type": "markdown",
   "id": "77d2d7c4-947a-488a-8611-cef5784886fe",
   "metadata": {},
   "source": [
    "# Inledning till sannolikhetsteorin\n",
    "Jakke Neiro$^1$"
   ]
  },
  {
   "cell_type": "markdown",
   "id": "ac61c1df-dd33-4ef8-89b7-71df76f36d40",
   "metadata": {},
   "source": [
    "1. Doktorand, Oxfords universitet"
   ]
  },
  {
   "cell_type": "markdown",
   "id": "50b8872f-9131-4495-b81a-3ef6550915c4",
   "metadata": {},
   "source": [
    "* Förord\n",
    "* 1. Sannolikhetsbegreppet"
   ]
  },
  {
   "cell_type": "markdown",
   "id": "896f2808-e6ba-43fc-8410-74651a55b5d2",
   "metadata": {},
   "source": [
    "# Förord"
   ]
  },
  {
   "cell_type": "markdown",
   "id": "ea522474-4388-4e46-ac6e-60afc160ed7f",
   "metadata": {},
   "source": [
    "När jag studerade statistik vid Helsingfors universitet blev det klart för mig att det finns knappt med moderna läromedel om statistikteorin på svenska. Således föreföll det mig att författa ett sådant, och det presenteras här. "
   ]
  },
  {
   "cell_type": "markdown",
   "id": "1b219f76-dcea-4bc4-a572-0c8fc217aadc",
   "metadata": {},
   "source": [
    "## 1. Sannolikhetsbegreppet "
   ]
  },
  {
   "cell_type": "markdown",
   "id": "23ed7364-486c-4f97-b633-c60c702d0f62",
   "metadata": {},
   "source": [
    "Vad är sannolikhet? Sannolikhet är det matematiska begreppet som används för att mäta osäkerhet och variabilitet. "
   ]
  },
  {
   "cell_type": "markdown",
   "id": "7e89e35b-84fe-4f4f-b410-14eca14d726d",
   "metadata": {},
   "source": [
    "Sannolikhetsbegreppet bygger på tre begrepp: utfall, utfallsrummet och händelser. "
   ]
  },
  {
   "cell_type": "markdown",
   "id": "46f57bec-d0a1-4831-a443-f084bd6e2e7a",
   "metadata": {},
   "source": [
    "**Definition**: Resultatet av ett slumpmässigt försök kallas et *utfall*. Utfall betecknas ofta "
   ]
  },
  {
   "cell_type": "markdown",
   "id": "fd00fc04-e791-4bc3-9f98-aacb48d45b00",
   "metadata": {},
   "source": [
    "**Definition**: Utfallsrummet $\\Omega$ är mängden av möjliga utfall"
   ]
  },
  {
   "cell_type": "markdown",
   "id": "1f08c3bd-a814-4128-a418-80c55f3f14ed",
   "metadata": {},
   "source": [
    "**Definition**: En händelse är en delmängd av utfallsrummet och således en viss samling av utfall. "
   ]
  },
  {
   "cell_type": "markdown",
   "id": "b6564b52-9be7-40e4-a364-9450a5192687",
   "metadata": {},
   "source": [
    "**Exempel**: Om vi kastar mynt två gånger är utfallsrummet $\\Omega = \\{HH, HT, TH, TT\\}$. Vi betecknar alltså krona som \"H\" och klave som \"T\". Händelsen att vi får krona i det första kastet är $A = \\{HH, HT\\}$"
   ]
  },
  {
   "cell_type": "markdown",
   "id": "89ea5339-712c-4c5c-9b31-a75c64ef3d84",
   "metadata": {},
   "source": [
    "# 2. Sannolikhetsmåttet"
   ]
  },
  {
   "cell_type": "markdown",
   "id": "a3d0246c-b7af-444f-a05a-e3d0b1f4581a",
   "metadata": {},
   "source": [
    "Man tilldelar varje händelse ett visst tal. Kolmogorovs axiomsystem"
   ]
  },
  {
   "cell_type": "markdown",
   "id": "8a284b9f-a86b-4191-8cc4-230f1193d99c",
   "metadata": {},
   "source": [
    "### Kolmogorovs axiomsystem\n",
    "Följande axiom för sannolikhetsmåttet $P(.)$ skall uppfyllas\n",
    "* **Axiom 1**: För varje händelse $A$ gäller att $0 \\leq P(A) \\leq 1$ \n",
    "* **Axiom 2**: För hela utfallsrummet gäller att $P(\\Omega) = 1$\n",
    "* **Axiom 3 alltså additionsformeln**: Om $A_1$, $A_2$, $\\dots$ är en ändlig eller uppräkneligt oändlig följd av parvis oförenliga händelser gäller att\n",
    "\n",
    "$$\n",
    "P(A_1 \\cup A_2 \\cup \\dots) = P(A_1) + P(A_2) + \\dots\n",
    "$$"
   ]
  },
  {
   "cell_type": "markdown",
   "id": "f63b7170-b5e3-4aa5-af6c-9068e3e6c9e0",
   "metadata": {},
   "source": [
    "# Betingad sannolikhet "
   ]
  },
  {
   "cell_type": "markdown",
   "id": "e938118b-e535-4d09-bf68-b4fa607759db",
   "metadata": {},
   "source": [
    "**Definition**: Om $P(B) > 0$ så är den betingade sannolikheten för händelsen $A$ givet $B$\n",
    "\n",
    "$$\n",
    "P(A | B) = \\frac{P(A \\cap B)}{P(A)}\n",
    "$$"
   ]
  },
  {
   "cell_type": "markdown",
   "id": "d67b77dd-9d25-4066-b265-189fc42fc85e",
   "metadata": {},
   "source": [
    "# Bayes sats"
   ]
  },
  {
   "cell_type": "markdown",
   "id": "a9b85d80-b488-408a-a849-4e93174dc709",
   "metadata": {},
   "source": [
    "# Terminologi och ordlista\n",
    "* Sample space; utfallsrummet\n",
    "* Sample outcomes, realizations, elements; utfall\n",
    "* Event, Händelse\n",
    "* Probability, Sannolikhet"
   ]
  },
  {
   "cell_type": "markdown",
   "id": "fe56dfef-c77c-4a68-9d52-ca02b68ad4f1",
   "metadata": {},
   "source": [
    "# Exempel"
   ]
  },
  {
   "cell_type": "markdown",
   "id": "d9174a2a-ffea-4ce5-bd05-c36153c42fde",
   "metadata": {},
   "source": [
    "### 1. \n",
    "**Anta att $A$ och $B$ är oberoende händelser. Visa att $A^{\\complement}$ och $B^{\\complement}$ är oberoende händelser.**"
   ]
  },
  {
   "cell_type": "markdown",
   "id": "f18d0357-5c54-4bd1-8a93-c66f87a11bb1",
   "metadata": {},
   "source": [
    "Utgående från sannolikhetens grundsater vet vi att \n",
    "* $P(A\\cap B) = P(A)P(B)$\n",
    "* $P(A^{\\complement})= 1 - P(A)$\n",
    "* $P(B^{\\complement})= 1 - P(B)$"
   ]
  },
  {
   "cell_type": "markdown",
   "id": "da0b5d2c-97f7-41a0-8eea-5d49b9652954",
   "metadata": {},
   "source": [
    "Vi skall bevisa att \n",
    "$$\n",
    "P(A^{\\complement} \\cap B^{\\complement}) = P(A^{\\complement})P(B^{\\complement})\n",
    "$$\n",
    "Om vi utvecklar den vänstra sidan av ekvationen så får vi att\n",
    "$$\n",
    "\\bigg(1 - P(A) \\bigg) \\bigg(1 - P(B) \\bigg) = P(A^{\\complement} \\cap B^{\\complement})\n",
    "$$\n",
    "Vi utvecklar komplementet och parentserna\n",
    "$$\n",
    "1- P(B) - P(A) + P(A)P(B) = P\\bigg((A \\cup B)^{\\complement}\\bigg)\n",
    "$$\n",
    "Vi utvecklar komplementet\n",
    "$$\n",
    "1- P(B) - P(A) + P(A)P(B) = 1 - P(A \\cup B)\n",
    "$$\n",
    "Vi använder oss av additionssatsen för två händelser\n",
    "$$\n",
    "1 - P(A \\cup B) = 1 - P(A \\cup B) \n",
    "$$\n",
    "Vilket skulle bevisas."
   ]
  },
  {
   "cell_type": "code",
   "execution_count": null,
   "id": "60e846d7-bc94-47b2-9a91-ee8f1857d246",
   "metadata": {},
   "outputs": [],
   "source": [
    "### 2.\n",
    "Tärningen kastas 20 gånger. Vad är sannolikheten att man "
   ]
  }
 ],
 "metadata": {
  "kernelspec": {
   "display_name": "Python 3 (ipykernel)",
   "language": "python",
   "name": "python3"
  },
  "language_info": {
   "codemirror_mode": {
    "name": "ipython",
    "version": 3
   },
   "file_extension": ".py",
   "mimetype": "text/x-python",
   "name": "python",
   "nbconvert_exporter": "python",
   "pygments_lexer": "ipython3",
   "version": "3.8.12"
  }
 },
 "nbformat": 4,
 "nbformat_minor": 5
}
