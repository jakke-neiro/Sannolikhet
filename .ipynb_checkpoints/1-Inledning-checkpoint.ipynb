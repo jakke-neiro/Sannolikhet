{
 "cells": [
  {
   "cell_type": "markdown",
   "id": "77d2d7c4-947a-488a-8611-cef5784886fe",
   "metadata": {},
   "source": [
    "# Inledning till sannolikhetsteorin\n",
    "Jakke Neiro$^1$"
   ]
  },
  {
   "cell_type": "markdown",
   "id": "ac61c1df-dd33-4ef8-89b7-71df76f36d40",
   "metadata": {},
   "source": [
    "1. Doktorand, Oxfords universitet"
   ]
  },
  {
   "cell_type": "markdown",
   "id": "50b8872f-9131-4495-b81a-3ef6550915c4",
   "metadata": {},
   "source": [
    "* Förord\n",
    "* 1. Sannolikhetsbegreppet"
   ]
  },
  {
   "cell_type": "markdown",
   "id": "896f2808-e6ba-43fc-8410-74651a55b5d2",
   "metadata": {},
   "source": [
    "# Förord"
   ]
  },
  {
   "cell_type": "markdown",
   "id": "ea522474-4388-4e46-ac6e-60afc160ed7f",
   "metadata": {},
   "source": [
    "När jag studerade statistik vid Helsingfors universitet blev det klart för mig att det finns knappt med moderna läromedel om statistikteorin på svenska. Således föreföll det mig att författa ett sådant, och det presenteras här. "
   ]
  },
  {
   "cell_type": "markdown",
   "id": "1b219f76-dcea-4bc4-a572-0c8fc217aadc",
   "metadata": {},
   "source": [
    "# 1. Sannolikhetsbegreppet "
   ]
  },
  {
   "cell_type": "markdown",
   "id": "d89bacb6-471e-4246-9739-6ac80839e06a",
   "metadata": {},
   "source": [
    "## 1.1 Utfall, utfallsrum och händelser"
   ]
  },
  {
   "cell_type": "markdown",
   "id": "23ed7364-486c-4f97-b633-c60c702d0f62",
   "metadata": {},
   "source": [
    "Vad är sannolikhet? Sannolikhet är det matematiska begreppet som används för att mäta osäkerhet och variabilitet. I det första kapitlet förklaras de grundläggande begreppen inom sannolikhetsteorin. Själva sannolikhetsbegreppet bygger på tre begrepp: utfall, utfallsrummet och händelser som kan definieras enligt följande:"
   ]
  },
  {
   "cell_type": "markdown",
   "id": "46f57bec-d0a1-4831-a443-f084bd6e2e7a",
   "metadata": {},
   "source": [
    "**Definition 1.1**: Resultatet av ett slumpmässigt försök kallas et *utfall*. Utfall betecknas ofta med siffror eller bokstäver t.ex. $\\omega_1, \\omega_2, \\dots$ (små omega)."
   ]
  },
  {
   "cell_type": "markdown",
   "id": "fd00fc04-e791-4bc3-9f98-aacb48d45b00",
   "metadata": {},
   "source": [
    "**Definition 1.2**: Utfallsrummet är mängden av möjliga utfall. Utfallsrummet betecknas allmänt som $\\Omega$."
   ]
  },
  {
   "cell_type": "markdown",
   "id": "1f08c3bd-a814-4128-a418-80c55f3f14ed",
   "metadata": {},
   "source": [
    "**Definition 1.3**: En händelse är en delmängd av utfallsrummet och således en viss samling av utfall. Händelser betecknas ofta med stora bokstäver $A, B, \\dots$. Om $A$ inträffar betyder det att ett utfall tillhörande $A$ inträffar."
   ]
  },
  {
   "cell_type": "markdown",
   "id": "759909e5-28e2-49dd-a079-e28ad01cf847",
   "metadata": {},
   "source": [
    "Ett enkelt myntkast kan väl exemplifiera begreppen:"
   ]
  },
  {
   "cell_type": "markdown",
   "id": "b6564b52-9be7-40e4-a364-9450a5192687",
   "metadata": {},
   "source": [
    "**Exempel 1.4**: Om vi kastar mynt två gånger är utfallsrummet $\\Omega = \\{HH, HT, TH, TT\\}$. Vi betecknar alltså krona som \"H\" och klave som \"T\". Händelsen att vi får krona i det första kastet är $A = \\{HH, HT\\}$"
   ]
  },
  {
   "cell_type": "markdown",
   "id": "70bf61f0-fe02-4544-b313-19a4381a3924",
   "metadata": {},
   "source": [
    "## 1.2 Sannolikhet och mängdlära"
   ]
  },
  {
   "cell_type": "markdown",
   "id": "b181bb81-46d8-42b1-ae8b-55221c3d1b07",
   "metadata": {},
   "source": [
    "För att undersöka olika händelser använder vi oss av mängdläran inom sannolikhetsteorin. För utfallsrummet kan vi definiera diskrethet, ändlighet och kontinuitet."
   ]
  },
  {
   "cell_type": "markdown",
   "id": "91da4ea2-c1b0-4940-999f-2708a5871cf6",
   "metadata": {},
   "source": [
    "**Definition 1.4**: Utfallsrummet $\\Omega$ är ett *diskret utfallsrum* om antalet utfall är ändligt eller uppräkneligt oändligt. Om antalet är ändligt, är utfallsrummet $\\Omega$ specifikt ett *ändligt utfallsrum*. Om utfallsrummet inte är ändligt eller uppräkneligt oändligt, så är det ett *kontinuerligt utfallsrum*."
   ]
  },
  {
   "cell_type": "markdown",
   "id": "cce998fe-ddca-4917-8239-e9908054f282",
   "metadata": {},
   "source": [
    "**Sats (De Morgans lagar)**: För mängderna $A$, $B$ och $C$ gäller att\n",
    "\n",
    "$$\n",
    "A \\cap (B \\cup C) = (A \\cap B)\\cup (A \\cap C)\n",
    "$$\n",
    "\n",
    "$$\n",
    "A \\cup (B \\cap C) = (A \\cup B)\\cap (A \\cup C)\n",
    "$$"
   ]
  },
  {
   "cell_type": "markdown",
   "id": "89ea5339-712c-4c5c-9b31-a75c64ef3d84",
   "metadata": {},
   "source": [
    "# 2. Sannolikhetsmåttet"
   ]
  },
  {
   "cell_type": "markdown",
   "id": "a3d0246c-b7af-444f-a05a-e3d0b1f4581a",
   "metadata": {},
   "source": [
    "Man tilldelar varje händelse ett visst tal. Kolmogorovs axiomsystem"
   ]
  },
  {
   "cell_type": "markdown",
   "id": "8a284b9f-a86b-4191-8cc4-230f1193d99c",
   "metadata": {},
   "source": [
    "### Kolmogorovs axiomsystem\n",
    "Följande axiom för sannolikhetsmåttet $P(.)$ skall uppfyllas\n",
    "* **Axiom 1**: För varje händelse $A$ gäller att $0 \\leq P(A) \\leq 1$ \n",
    "* **Axiom 2**: För hela utfallsrummet gäller att $P(\\Omega) = 1$\n",
    "* **Axiom 3 alltså additionsformeln**: Om $A_1$, $A_2$, $\\dots$ är en ändlig eller uppräkneligt oändlig följd av parvis oförenliga händelser gäller att\n",
    "\n",
    "$$\n",
    "P(A_1 \\cup A_2 \\cup \\dots) = P(A_1) + P(A_2) + \\dots\n",
    "$$\n",
    "\n"
   ]
  },
  {
   "cell_type": "markdown",
   "id": "5ba20e6f-5e30-4449-a106-47e7fa91c89f",
   "metadata": {},
   "source": [
    "# 3. Sannolikheter i diskreta utfallsrum"
   ]
  },
  {
   "cell_type": "markdown",
   "id": "f63b7170-b5e3-4aa5-af6c-9068e3e6c9e0",
   "metadata": {},
   "source": [
    "# Betingad sannolikhet "
   ]
  },
  {
   "cell_type": "markdown",
   "id": "e938118b-e535-4d09-bf68-b4fa607759db",
   "metadata": {},
   "source": [
    "**Definition**: Om $P(B) > 0$ så är den betingade sannolikheten för händelsen $A$ givet $B$\n",
    "\n",
    "$$\n",
    "P(A | B) = \\frac{P(A \\cap B)}{P(A)}\n",
    "$$"
   ]
  },
  {
   "cell_type": "markdown",
   "id": "d67b77dd-9d25-4066-b265-189fc42fc85e",
   "metadata": {},
   "source": [
    "# Bayes sats"
   ]
  },
  {
   "cell_type": "markdown",
   "id": "a9b85d80-b488-408a-a849-4e93174dc709",
   "metadata": {},
   "source": [
    "# Terminologi och ordlista\n",
    "* Sample space; utfallsrummet\n",
    "* Sample outcomes, realizations, elements; utfall\n",
    "* Event, Händelse\n",
    "* Probability, Sannolikhet"
   ]
  },
  {
   "cell_type": "markdown",
   "id": "fe56dfef-c77c-4a68-9d52-ca02b68ad4f1",
   "metadata": {},
   "source": [
    "# Exempel"
   ]
  },
  {
   "cell_type": "markdown",
   "id": "d9174a2a-ffea-4ce5-bd05-c36153c42fde",
   "metadata": {},
   "source": [
    "### 1. Bevis och komplement\n",
    "**Anta att $A$ och $B$ är oberoende händelser. Visa att $A^{\\complement}$ och $B^{\\complement}$ är oberoende händelser.**"
   ]
  },
  {
   "cell_type": "markdown",
   "id": "f18d0357-5c54-4bd1-8a93-c66f87a11bb1",
   "metadata": {},
   "source": [
    "Utgående från sannolikhetens grundsater vet vi att \n",
    "* $P(A\\cap B) = P(A)P(B)$\n",
    "* $P(A^{\\complement})= 1 - P(A)$\n",
    "* $P(B^{\\complement})= 1 - P(B)$"
   ]
  },
  {
   "cell_type": "markdown",
   "id": "da0b5d2c-97f7-41a0-8eea-5d49b9652954",
   "metadata": {},
   "source": [
    "Vi skall bevisa att \n",
    "$$\n",
    "P(A^{\\complement} \\cap B^{\\complement}) = P(A^{\\complement})P(B^{\\complement})\n",
    "$$\n",
    "Om vi utvecklar den vänstra sidan av ekvationen så får vi att\n",
    "$$\n",
    "\\bigg(1 - P(A) \\bigg) \\bigg(1 - P(B) \\bigg) = P(A^{\\complement} \\cap B^{\\complement})\n",
    "$$\n",
    "Vi utvecklar komplementet och parentserna\n",
    "$$\n",
    "1- P(B) - P(A) + P(A)P(B) = P\\bigg((A \\cup B)^{\\complement}\\bigg)\n",
    "$$\n",
    "Vi utvecklar komplementet\n",
    "$$\n",
    "1- P(B) - P(A) + P(A)P(B) = 1 - P(A \\cup B)\n",
    "$$\n",
    "Vi använder oss av additionssatsen för två händelser\n",
    "$$\n",
    "1 - P(A \\cup B) = 1 - P(A \\cup B) \n",
    "$$\n",
    "Vilket skulle bevisas."
   ]
  },
  {
   "cell_type": "markdown",
   "id": "0743738c-a9ac-4c3b-bd7c-732f10715597",
   "metadata": {},
   "source": [
    "### 2. Tärningskast och kombination\n",
    "**Tärningen kastas 20 gånger. Vad är sannolikheten att man man får $k$ sexor? Skriv en funktion i Python och använd den för att räkna k=1,7,17.**"
   ]
  },
  {
   "cell_type": "markdown",
   "id": "d17c1754-f716-418d-9d87-ec9e2098b439",
   "metadata": {},
   "source": [
    "Vi skriver först uttrycket matematiskt. Vi kan anta att kasten är oberoende. \n",
    "\n",
    "$$\n",
    "{20 \\choose k} \\bigg(\\frac{1}{6} \\bigg)^k \\bigg(\\frac{5}{6} \\bigg)^{(20-k)}\n",
    "$$"
   ]
  },
  {
   "cell_type": "code",
   "execution_count": 11,
   "id": "91db8992-9641-4526-b84d-9a74ba1e4237",
   "metadata": {},
   "outputs": [
    {
     "name": "stdout",
     "output_type": "stream",
     "text": [
      "0.10433621321835539\n",
      "0.025882058395798095\n",
      "3.897533499602534e-11\n"
     ]
    }
   ],
   "source": [
    "import math\n",
    "def sexor(k):\n",
    "    p = math.comb(20, k)*((1/6)**k)*((5/6)**(20-k))\n",
    "    return p\n",
    "for k in [1,7,17]:\n",
    "    print(sexor(k))"
   ]
  },
  {
   "cell_type": "markdown",
   "id": "bd57624c-4e0d-422e-bfb0-a3df01fcbeaf",
   "metadata": {},
   "source": [
    "### 3. Myntkast och "
   ]
  }
 ],
 "metadata": {
  "kernelspec": {
   "display_name": "Python 3 (ipykernel)",
   "language": "python",
   "name": "python3"
  },
  "language_info": {
   "codemirror_mode": {
    "name": "ipython",
    "version": 3
   },
   "file_extension": ".py",
   "mimetype": "text/x-python",
   "name": "python",
   "nbconvert_exporter": "python",
   "pygments_lexer": "ipython3",
   "version": "3.8.12"
  }
 },
 "nbformat": 4,
 "nbformat_minor": 5
}
