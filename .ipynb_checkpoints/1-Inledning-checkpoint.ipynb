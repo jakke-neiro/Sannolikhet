{
 "cells": [
  {
   "cell_type": "markdown",
   "id": "77d2d7c4-947a-488a-8611-cef5784886fe",
   "metadata": {},
   "source": [
    "# Inledning till sannolikhetsteorin\n",
    "Jakke Neiro$^1$"
   ]
  },
  {
   "cell_type": "markdown",
   "id": "ac61c1df-dd33-4ef8-89b7-71df76f36d40",
   "metadata": {},
   "source": [
    "1. Doktorand, Oxfords universitet"
   ]
  },
  {
   "cell_type": "markdown",
   "id": "896f2808-e6ba-43fc-8410-74651a55b5d2",
   "metadata": {},
   "source": [
    "# Förord"
   ]
  },
  {
   "cell_type": "markdown",
   "id": "ea522474-4388-4e46-ac6e-60afc160ed7f",
   "metadata": {},
   "source": [
    "När jag studerade statistik vid Helsingfors universitet blev det klart för mig att det finns knappt med moderna läromedel om statistikteorin på svenska. Således föreföll det mig att författa ett sådant, och det presenteras här. "
   ]
  },
  {
   "cell_type": "markdown",
   "id": "1b219f76-dcea-4bc4-a572-0c8fc217aadc",
   "metadata": {},
   "source": [
    "## 1. Sannolikhetsbegreppet "
   ]
  },
  {
   "cell_type": "markdown",
   "id": "23ed7364-486c-4f97-b633-c60c702d0f62",
   "metadata": {},
   "source": [
    "Vad är sannolikhet? Sannolikhet är det matematiska begreppet som används för att mäta osäkerhet och variabilitet. "
   ]
  },
  {
   "cell_type": "markdown",
   "id": "7e89e35b-84fe-4f4f-b410-14eca14d726d",
   "metadata": {},
   "source": [
    "Sannolikhetsbegreppet bygger på tre begrepp: utfall, utfallsrummet och händelser. "
   ]
  },
  {
   "cell_type": "markdown",
   "id": "46f57bec-d0a1-4831-a443-f084bd6e2e7a",
   "metadata": {},
   "source": [
    "Definition: Resultatet av ett slumpmässigt försök kallas et utfall. Utfall betecknas ofta "
   ]
  },
  {
   "cell_type": "markdown",
   "id": "fd00fc04-e791-4bc3-9f98-aacb48d45b00",
   "metadata": {},
   "source": [
    "Definition: Utfallsrummet $\\Omega$ är mängden av möjliga utfall"
   ]
  },
  {
   "cell_type": "markdown",
   "id": "1f08c3bd-a814-4128-a418-80c55f3f14ed",
   "metadata": {},
   "source": [
    "Definition: En händelse är en delmängd av utfallsrummet och således en viss samling av utfall. "
   ]
  },
  {
   "cell_type": "markdown",
   "id": "b6564b52-9be7-40e4-a364-9450a5192687",
   "metadata": {},
   "source": [
    "Exempel: Om vi kastar mynt två gånger är utfallsrummet $\\Omega = \\{HH, HT, TH, TT\\}$. Vi betecknar alltså krona som \"H\" och klave som \"T\". Händelsen att vi får krona i det första kastet är $A = \\{HH, HT\\}$"
   ]
  },
  {
   "cell_type": "markdown",
   "id": "89ea5339-712c-4c5c-9b31-a75c64ef3d84",
   "metadata": {},
   "source": [
    "# 2. Sannolikhetsmåttet"
   ]
  },
  {
   "cell_type": "markdown",
   "id": "a3d0246c-b7af-444f-a05a-e3d0b1f4581a",
   "metadata": {},
   "source": [
    "Kolmogorovs axiomsystem"
   ]
  },
  {
   "cell_type": "markdown",
   "id": "8a284b9f-a86b-4191-8cc4-230f1193d99c",
   "metadata": {},
   "source": [
    "Följande axiom för sannolikhetsmåttet $P(.)$ skall uppfyllas\n",
    "* Axiom 1: För varje händelse $A$ gäller att $0 \\leq P(A) \\leq 1$ \n",
    "* Axiom 2: För hela utfallsrummet gäller att $P(\\Omega) = 1$"
   ]
  },
  {
   "cell_type": "markdown",
   "id": "fe56dfef-c77c-4a68-9d52-ca02b68ad4f1",
   "metadata": {},
   "source": [
    "# Exempel"
   ]
  },
  {
   "cell_type": "markdown",
   "id": "9d5b6ba1-af52-4cef-aa50-00d41b1f7d4e",
   "metadata": {},
   "source": [
    "### Komplement"
   ]
  },
  {
   "cell_type": "markdown",
   "id": "d9174a2a-ffea-4ce5-bd05-c36153c42fde",
   "metadata": {},
   "source": [
    "**Anta att $A$ och $B$ är oberoende händelser. Visa att $A^{\\complement}$ och $B^{\\complement}$ är oberoende händelser.**"
   ]
  },
  {
   "cell_type": "markdown",
   "id": "f18d0357-5c54-4bd1-8a93-c66f87a11bb1",
   "metadata": {},
   "source": [
    "Utgående från sannolikhetens grundsater vet vi att \n",
    "* $P(A\\cap B) = P(A)P(B)$\n",
    "* $P(A^{\\complement})= 1 - P(A)$\n",
    "* $P(B^{\\complement})= 1 - P(B)$"
   ]
  },
  {
   "cell_type": "markdown",
   "id": "da0b5d2c-97f7-41a0-8eea-5d49b9652954",
   "metadata": {},
   "source": [
    "Vi skall bevisa att $P(A^{\\complement} \\cap B^{\\complement}) = P(A^{\\complement})P(B^{\\complement})$"
   ]
  }
 ],
 "metadata": {
  "kernelspec": {
   "display_name": "Python 3 (ipykernel)",
   "language": "python",
   "name": "python3"
  },
  "language_info": {
   "codemirror_mode": {
    "name": "ipython",
    "version": 3
   },
   "file_extension": ".py",
   "mimetype": "text/x-python",
   "name": "python",
   "nbconvert_exporter": "python",
   "pygments_lexer": "ipython3",
   "version": "3.8.12"
  }
 },
 "nbformat": 4,
 "nbformat_minor": 5
}
