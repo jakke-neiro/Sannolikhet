{
 "cells": [
  {
   "cell_type": "markdown",
   "id": "51475420-6bad-4c30-a2aa-67f89a0149c1",
   "metadata": {},
   "source": [
    "# Endimensionella stokastiska variabler"
   ]
  },
  {
   "cell_type": "code",
   "execution_count": null,
   "id": "d9782320-feea-4add-aa75-b580de15e506",
   "metadata": {},
   "outputs": [],
   "source": []
  }
 ],
 "metadata": {
  "kernelspec": {
   "display_name": "Python 3 (ipykernel)",
   "language": "python",
   "name": "python3"
  },
  "language_info": {
   "codemirror_mode": {
    "name": "ipython",
    "version": 3
   },
   "file_extension": ".py",
   "mimetype": "text/x-python",
   "name": "python",
   "nbconvert_exporter": "python",
   "pygments_lexer": "ipython3",
   "version": "3.8.12"
  }
 },
 "nbformat": 4,
 "nbformat_minor": 5
}
