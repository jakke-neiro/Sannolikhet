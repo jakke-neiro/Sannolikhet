{
 "cells": [
  {
   "cell_type": "markdown",
   "id": "51475420-6bad-4c30-a2aa-67f89a0149c1",
   "metadata": {},
   "source": [
    "# Endimensionella stokastiska variabler"
   ]
  },
  {
   "cell_type": "markdown",
   "id": "2abccdcf-81d8-4c31-8243-18a386ca58a4",
   "metadata": {},
   "source": [
    "Jakke Neiro"
   ]
  },
  {
   "cell_type": "markdown",
   "id": "fe5bb69a-1418-498d-aa23-fd6d1c102181",
   "metadata": {},
   "source": [
    "# 1. Stokastisk variabel\n",
    "Inom Den stokastiska variabeln och dess fördelnining.\n",
    "\n",
    "\n",
    "$\\Omega$ on perusjoukko. $X: \\Omega \\to \\mathcal{R}$ on satunnaismuuttuja ($X$ on Borelin funktio). \n",
    "\n",
    "Indikatorfunktion \n",
    "\n",
    "$$I_A(\\omega) = \\begin{cases}\n",
    "1 & \\textrm{om } \\omega \\in A \\\\\n",
    "0 & \\textrm{annars}\n",
    "\\end{cases}\n",
    "$$\n",
    "\n",
    "Millä todennäköisyydellä $X$ saa arvon joukosta $B$, $B \\subset \\mathcal{R}$?\n",
    "\n",
    "$\\{\\omega \\in \\Omega: X(\\omega) \\in B \\} = \\{X \\in B \\}$\n",
    "\n",
    "$P(X \\in B) = P(\\{\\omega \\in \\Omega: X(\\omega) \\in B\\})$\n",
    "\n",
    "$P(X=X) = P(\\{\\omega \\in \\Omega: a \\leq X(\\omega) \\leq b\\})$\n",
    "\n",
    "$P(a \\leq X \\leq b) = P(\\{\\omega \\in \\Omega: a \\leq X(\\omega) \\leq b \\})$\n",
    "\n",
    "$P(X \\leq x) = P(\\{\\omega \\in \\Omega: X(\\omega) \\leq x \\})$\n",
    "\n",
    "Jakauma: $B \\subset \\mathcal{R} \\to P(X \\in B)$, Borelin funktio, Perusjoukon osajoukot ovat kaikki tapahtumia"
   ]
  },
  {
   "cell_type": "code",
   "execution_count": null,
   "id": "4d6d3b34-3f1f-49ea-970f-d5e8b1b1d842",
   "metadata": {},
   "outputs": [],
   "source": []
  }
 ],
 "metadata": {
  "kernelspec": {
   "display_name": "Python 3 (ipykernel)",
   "language": "python",
   "name": "python3"
  },
  "language_info": {
   "codemirror_mode": {
    "name": "ipython",
    "version": 3
   },
   "file_extension": ".py",
   "mimetype": "text/x-python",
   "name": "python",
   "nbconvert_exporter": "python",
   "pygments_lexer": "ipython3",
   "version": "3.8.12"
  }
 },
 "nbformat": 4,
 "nbformat_minor": 5
}
